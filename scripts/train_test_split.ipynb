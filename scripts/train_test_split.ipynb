{
 "cells": [
  {
   "cell_type": "markdown",
   "metadata": {},
   "source": [
    "# Train Test Split\n",
    "\n",
    "This notebook creates a train-test split by patient. Once the patients are split, then we randomly sample a subset of each patients lung images to be used for training. "
   ]
  },
  {
   "cell_type": "code",
   "execution_count": 1,
   "metadata": {},
   "outputs": [],
   "source": [
    "import os\n",
    "import numpy as np\n",
    "import pandas as pd\n",
    "from sklearn.model_selection import train_test_split"
   ]
  },
  {
   "cell_type": "code",
   "execution_count": 2,
   "metadata": {},
   "outputs": [
    {
     "data": {
      "text/html": [
       "<div>\n",
       "<style scoped>\n",
       "    .dataframe tbody tr th:only-of-type {\n",
       "        vertical-align: middle;\n",
       "    }\n",
       "\n",
       "    .dataframe tbody tr th {\n",
       "        vertical-align: top;\n",
       "    }\n",
       "\n",
       "    .dataframe thead th {\n",
       "        text-align: right;\n",
       "    }\n",
       "</style>\n",
       "<table border=\"1\" class=\"dataframe\">\n",
       "  <thead>\n",
       "    <tr style=\"text-align: right;\">\n",
       "      <th></th>\n",
       "      <th>images</th>\n",
       "      <th>labels</th>\n",
       "      <th>patient</th>\n",
       "    </tr>\n",
       "  </thead>\n",
       "  <tbody>\n",
       "    <tr>\n",
       "      <th>0</th>\n",
       "      <td>/Users/raamis/lung_cancer_detector/data/images...</td>\n",
       "      <td>/Users/raamis/lung_cancer_detector/data/images...</td>\n",
       "      <td>G0059</td>\n",
       "    </tr>\n",
       "    <tr>\n",
       "      <th>1</th>\n",
       "      <td>/Users/raamis/lung_cancer_detector/data/images...</td>\n",
       "      <td>/Users/raamis/lung_cancer_detector/data/images...</td>\n",
       "      <td>G0044</td>\n",
       "    </tr>\n",
       "    <tr>\n",
       "      <th>2</th>\n",
       "      <td>/Users/raamis/lung_cancer_detector/data/images...</td>\n",
       "      <td>/Users/raamis/lung_cancer_detector/data/images...</td>\n",
       "      <td>A0112</td>\n",
       "    </tr>\n",
       "    <tr>\n",
       "      <th>3</th>\n",
       "      <td>/Users/raamis/lung_cancer_detector/data/images...</td>\n",
       "      <td>/Users/raamis/lung_cancer_detector/data/images...</td>\n",
       "      <td>A0084</td>\n",
       "    </tr>\n",
       "    <tr>\n",
       "      <th>4</th>\n",
       "      <td>/Users/raamis/lung_cancer_detector/data/images...</td>\n",
       "      <td>/Users/raamis/lung_cancer_detector/data/images...</td>\n",
       "      <td>A0249</td>\n",
       "    </tr>\n",
       "  </tbody>\n",
       "</table>\n",
       "</div>"
      ],
      "text/plain": [
       "                                              images  \\\n",
       "0  /Users/raamis/lung_cancer_detector/data/images...   \n",
       "1  /Users/raamis/lung_cancer_detector/data/images...   \n",
       "2  /Users/raamis/lung_cancer_detector/data/images...   \n",
       "3  /Users/raamis/lung_cancer_detector/data/images...   \n",
       "4  /Users/raamis/lung_cancer_detector/data/images...   \n",
       "\n",
       "                                              labels patient  \n",
       "0  /Users/raamis/lung_cancer_detector/data/images...   G0059  \n",
       "1  /Users/raamis/lung_cancer_detector/data/images...   G0044  \n",
       "2  /Users/raamis/lung_cancer_detector/data/images...   A0112  \n",
       "3  /Users/raamis/lung_cancer_detector/data/images...   A0084  \n",
       "4  /Users/raamis/lung_cancer_detector/data/images...   A0249  "
      ]
     },
     "execution_count": 2,
     "metadata": {},
     "output_type": "execute_result"
    }
   ],
   "source": [
    "IMAGE_DIR = \"/Users/raamis/lung_cancer_detector/data/images/\"\n",
    "LABEL_PATH = \"/Users/raamis/lung_cancer_detector/data/labels\"\n",
    "\n",
    "images = os.listdir(IMAGE_DIR)\n",
    "images = np.core.defchararray.add(IMAGE_DIR,images)\n",
    "\n",
    "labels = np.core.defchararray.replace(images,\".png\",\".txt\")\n",
    "\n",
    "# Create dataframe of images and labels\n",
    "patient_df = pd.DataFrame()\n",
    "patient_df[\"images\"] = images\n",
    "patient_df[\"labels\"] = labels\n",
    "\n",
    "patient_names = []\n",
    "for name in patient_df[\"images\"]:\n",
    "    id = name.split(\"/\")[-1].split(\"_\")[0]\n",
    "    patient_names.append(id)\n",
    "\n",
    "patient_df[\"patient\"] = patient_names\n",
    "patient_df.head()"
   ]
  },
  {
   "cell_type": "code",
   "execution_count": 6,
   "metadata": {},
   "outputs": [],
   "source": [
    "# Create 80/20 train test split\n",
    "patients = patient_df[\"patient\"].unique()\n",
    "train_patients,test_patients = train_test_split(patients,test_size=0.2,train_size=0.8)"
   ]
  },
  {
   "cell_type": "code",
   "execution_count": 8,
   "metadata": {},
   "outputs": [
    {
     "name": "stdout",
     "output_type": "stream",
     "text": [
      "350\n"
     ]
    }
   ],
   "source": [
    "print(len(patients))"
   ]
  },
  {
   "cell_type": "markdown",
   "metadata": {},
   "source": [
    "## Sample Train and Test Images\n",
    "\n",
    "Now that we have split the patients into a train and test set, let's randomly sample images from each patient to create a set of images and labels for training and testing."
   ]
  },
  {
   "cell_type": "code",
   "execution_count": null,
   "metadata": {},
   "outputs": [],
   "source": []
  }
 ],
 "metadata": {
  "kernelspec": {
   "display_name": "Python 3.8.10 64-bit ('lung')",
   "language": "python",
   "name": "python3"
  },
  "language_info": {
   "codemirror_mode": {
    "name": "ipython",
    "version": 3
   },
   "file_extension": ".py",
   "mimetype": "text/x-python",
   "name": "python",
   "nbconvert_exporter": "python",
   "pygments_lexer": "ipython3",
   "version": "3.8.10"
  },
  "orig_nbformat": 4,
  "vscode": {
   "interpreter": {
    "hash": "c82fbb682bc4d185dd038901fa54cc74075450ec785684e74d43db9983ccfab0"
   }
  }
 },
 "nbformat": 4,
 "nbformat_minor": 2
}
