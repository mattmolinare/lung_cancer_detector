{
 "cells": [
  {
   "cell_type": "markdown",
   "metadata": {},
   "source": [
    "# Train Test Split\n",
    "\n",
    "This notebook creates a train-test split by patient. Once the patients are split, then we randomly sample a subset of each patients lung images to be used for training. "
   ]
  },
  {
   "cell_type": "code",
   "execution_count": 1,
   "metadata": {},
   "outputs": [],
   "source": [
    "import os, shutil\n",
    "import numpy as np\n",
    "import pandas as pd\n",
    "from sklearn.model_selection import train_test_split"
   ]
  },
  {
   "cell_type": "code",
   "execution_count": 2,
   "metadata": {},
   "outputs": [
    {
     "data": {
      "text/html": [
       "<div>\n",
       "<style scoped>\n",
       "    .dataframe tbody tr th:only-of-type {\n",
       "        vertical-align: middle;\n",
       "    }\n",
       "\n",
       "    .dataframe tbody tr th {\n",
       "        vertical-align: top;\n",
       "    }\n",
       "\n",
       "    .dataframe thead th {\n",
       "        text-align: right;\n",
       "    }\n",
       "</style>\n",
       "<table border=\"1\" class=\"dataframe\">\n",
       "  <thead>\n",
       "    <tr style=\"text-align: right;\">\n",
       "      <th></th>\n",
       "      <th>image_path</th>\n",
       "      <th>label_path</th>\n",
       "      <th>patient_id</th>\n",
       "    </tr>\n",
       "  </thead>\n",
       "  <tbody>\n",
       "    <tr>\n",
       "      <th>0</th>\n",
       "      <td>/Users/raamis/lung_cancer_detector/data/images...</td>\n",
       "      <td>/Users/raamis/lung_cancer_detector/data/labels...</td>\n",
       "      <td>G0059</td>\n",
       "    </tr>\n",
       "    <tr>\n",
       "      <th>1</th>\n",
       "      <td>/Users/raamis/lung_cancer_detector/data/images...</td>\n",
       "      <td>/Users/raamis/lung_cancer_detector/data/labels...</td>\n",
       "      <td>G0044</td>\n",
       "    </tr>\n",
       "    <tr>\n",
       "      <th>2</th>\n",
       "      <td>/Users/raamis/lung_cancer_detector/data/images...</td>\n",
       "      <td>/Users/raamis/lung_cancer_detector/data/labels...</td>\n",
       "      <td>A0112</td>\n",
       "    </tr>\n",
       "    <tr>\n",
       "      <th>3</th>\n",
       "      <td>/Users/raamis/lung_cancer_detector/data/images...</td>\n",
       "      <td>/Users/raamis/lung_cancer_detector/data/labels...</td>\n",
       "      <td>A0084</td>\n",
       "    </tr>\n",
       "    <tr>\n",
       "      <th>4</th>\n",
       "      <td>/Users/raamis/lung_cancer_detector/data/images...</td>\n",
       "      <td>/Users/raamis/lung_cancer_detector/data/labels...</td>\n",
       "      <td>A0249</td>\n",
       "    </tr>\n",
       "  </tbody>\n",
       "</table>\n",
       "</div>"
      ],
      "text/plain": [
       "                                          image_path  \\\n",
       "0  /Users/raamis/lung_cancer_detector/data/images...   \n",
       "1  /Users/raamis/lung_cancer_detector/data/images...   \n",
       "2  /Users/raamis/lung_cancer_detector/data/images...   \n",
       "3  /Users/raamis/lung_cancer_detector/data/images...   \n",
       "4  /Users/raamis/lung_cancer_detector/data/images...   \n",
       "\n",
       "                                          label_path patient_id  \n",
       "0  /Users/raamis/lung_cancer_detector/data/labels...      G0059  \n",
       "1  /Users/raamis/lung_cancer_detector/data/labels...      G0044  \n",
       "2  /Users/raamis/lung_cancer_detector/data/labels...      A0112  \n",
       "3  /Users/raamis/lung_cancer_detector/data/labels...      A0084  \n",
       "4  /Users/raamis/lung_cancer_detector/data/labels...      A0249  "
      ]
     },
     "execution_count": 2,
     "metadata": {},
     "output_type": "execute_result"
    }
   ],
   "source": [
    "IMAGE_DIR = \"/Users/raamis/lung_cancer_detector/data/images/\"\n",
    "\n",
    "images = os.listdir(IMAGE_DIR)\n",
    "images = np.core.defchararray.add(IMAGE_DIR,images)\n",
    "\n",
    "labels = np.core.defchararray.replace(images,\"images\",\"labels\")\n",
    "labels = np.core.defchararray.replace(labels,\".png\",\".txt\")\n",
    "\n",
    "# Create dataframe of images and labels\n",
    "patient_df = pd.DataFrame()\n",
    "patient_df[\"image_path\"] = images\n",
    "patient_df[\"label_path\"] = labels\n",
    "\n",
    "patient_names = []\n",
    "for name in patient_df[\"image_path\"]:\n",
    "    id = name.split(\"/\")[-1].split(\"_\")[0]\n",
    "    patient_names.append(id)\n",
    "\n",
    "patient_df[\"patient_id\"] = patient_names\n",
    "patient_df.head()"
   ]
  },
  {
   "cell_type": "code",
   "execution_count": 3,
   "metadata": {},
   "outputs": [],
   "source": [
    "# Create 80/20 train test split\n",
    "patient_id = patient_df[\"patient_id\"].unique()\n",
    "train_patients,test_patients = train_test_split(patient_id,test_size=0.2,train_size=0.8)"
   ]
  },
  {
   "cell_type": "markdown",
   "metadata": {},
   "source": [
    "## Sample Train and Test Images\n",
    "\n",
    "Now that we have split the patients into a train and test set, let's randomly sample images from each patient to create a set of images and labels for training and testing."
   ]
  },
  {
   "cell_type": "code",
   "execution_count": 4,
   "metadata": {},
   "outputs": [],
   "source": [
    "# create dataframes for train and test set\n",
    "train_df = patient_df[patient_df.patient_id.isin(train_patients)]\n",
    "test_df = patient_df[patient_df.patient_id.isin(test_patients)]"
   ]
  },
  {
   "cell_type": "code",
   "execution_count": 5,
   "metadata": {},
   "outputs": [],
   "source": [
    "# sample 3 images from each patient in the train and test set\n",
    "train_sample = train_df.groupby(\"patient_id\").apply(\n",
    "    pd.DataFrame.sample,n=3,replace=True\n",
    ").reset_index(drop=True)\n",
    "\n",
    "test_sample = test_df.groupby(\"patient_id\").apply(\n",
    "    pd.DataFrame.sample,n=3,replace=True\n",
    ").reset_index(drop=True)"
   ]
  },
  {
   "cell_type": "code",
   "execution_count": 6,
   "metadata": {},
   "outputs": [],
   "source": [
    "# Drop any duplicates introduced by the sampling\n",
    "train_sample = train_sample.drop_duplicates(\"image_path\")\n",
    "test_sample = test_sample.drop_duplicates(\"image_path\")"
   ]
  },
  {
   "cell_type": "code",
   "execution_count": 7,
   "metadata": {},
   "outputs": [
    {
     "name": "stdout",
     "output_type": "stream",
     "text": [
      "There are 804 images in the training set\n",
      "There are 203 images in the training set\n"
     ]
    }
   ],
   "source": [
    "print(f\"There are {len(train_sample)} images in the training set\")\n",
    "print(f\"There are {len(test_sample)} images in the training set\")"
   ]
  },
  {
   "cell_type": "code",
   "execution_count": 8,
   "metadata": {},
   "outputs": [
    {
     "name": "stdout",
     "output_type": "stream",
     "text": [
      "There are 0 duplicate patients\n"
     ]
    }
   ],
   "source": [
    "# make sure there are no duplicate patients between the training and validation sets\n",
    "num_dupes = np.intersect1d(\n",
    "    test_sample[\"patient_id\"].unique(),\n",
    "    train_sample[\"patient_id\"].unique()\n",
    ")\n",
    "\n",
    "print(f\"There are {len(num_dupes)} duplicate patients\")"
   ]
  },
  {
   "cell_type": "markdown",
   "metadata": {},
   "source": [
    "## Move images into YOLO Training Directoies"
   ]
  },
  {
   "cell_type": "code",
   "execution_count": 9,
   "metadata": {},
   "outputs": [],
   "source": [
    "TRAIN_IMAGE_DIR = \"/Users/raamis/repos/lung_cancer_detector/data/images/train\"\n",
    "TRAIN_LABEL_DIR = \"/Users/raamis/repos/lung_cancer_detector/data/labels/train\"\n",
    "\n",
    "VAL_IMAGE_DIR = \"/Users/raamis/repos/lung_cancer_detector/data/images/val\"\n",
    "VAL_LABEL_DIR = \"/Users/raamis/repos/lung_cancer_detector/data/labels/val\""
   ]
  },
  {
   "cell_type": "markdown",
   "metadata": {},
   "source": [
    "The below part is commented out since we only want to copy over images and labels once"
   ]
  },
  {
   "cell_type": "code",
   "execution_count": 10,
   "metadata": {},
   "outputs": [],
   "source": [
    "# Copy over training images and labels\n",
    "# for image,label in zip(train_sample[\"image_path\"],train_sample[\"label_path\"]):\n",
    "#     new_image_path = os.path.join(TRAIN_IMAGE_DIR,image.split('/')[-1])\n",
    "#     new_label_path = os.path.join(TRAIN_LABEL_DIR,label.split('/')[-1])\n",
    "\n",
    "#     shutil.copy(image,new_image_path)\n",
    "#     shutil.copy(label,new_label_path)\n",
    "\n",
    "# # copy over validation images and labels\n",
    "# for image,label in zip(test_sample[\"image_path\"],test_sample[\"label_path\"]):\n",
    "#     new_image_path = os.path.join(VAL_IMAGE_DIR,image.split('/')[-1])\n",
    "#     new_label_path = os.path.join(VAL_LABEL_DIR,label.split('/')[-1])\n",
    "\n",
    "#     shutil.copy(image,new_image_path)\n",
    "#     shutil.copy(label,new_label_path)"
   ]
  },
  {
   "cell_type": "markdown",
   "metadata": {},
   "source": [
    "## Sanity Checks\n",
    "\n",
    "Let's make sure there is a proper 1 to 1 image-label mapping in the training and validation directories. We also check to make sure there are no duplicate files between the training and validation directories."
   ]
  },
  {
   "cell_type": "code",
   "execution_count": 11,
   "metadata": {},
   "outputs": [],
   "source": [
    "from yolo_directory_checks import check_for_duplicates, valid_image_label_mapping"
   ]
  },
  {
   "cell_type": "code",
   "execution_count": 12,
   "metadata": {},
   "outputs": [
    {
     "name": "stdout",
     "output_type": "stream",
     "text": [
      "[]\n"
     ]
    }
   ],
   "source": [
    "print(check_for_duplicates(\"/Users/raamis/repos/lung_cancer_detector/data/images/\"))"
   ]
  },
  {
   "cell_type": "code",
   "execution_count": 13,
   "metadata": {},
   "outputs": [
    {
     "name": "stdout",
     "output_type": "stream",
     "text": [
      "True\n"
     ]
    }
   ],
   "source": [
    "IMAGE_DIR = \"/Users/raamis/repos/lung_cancer_detector/data/images/\"\n",
    "LABEL_DIR = \"/Users/raamis/repos/lung_cancer_detector/data/labels/\"\n",
    "print(valid_image_label_mapping(IMAGE_DIR,LABEL_DIR))\n"
   ]
  }
 ],
 "metadata": {
  "kernelspec": {
   "display_name": "Python 3.8.10 64-bit ('lung')",
   "language": "python",
   "name": "python3"
  },
  "language_info": {
   "codemirror_mode": {
    "name": "ipython",
    "version": 3
   },
   "file_extension": ".py",
   "mimetype": "text/x-python",
   "name": "python",
   "nbconvert_exporter": "python",
   "pygments_lexer": "ipython3",
   "version": "3.8.10"
  },
  "orig_nbformat": 4,
  "vscode": {
   "interpreter": {
    "hash": "c82fbb682bc4d185dd038901fa54cc74075450ec785684e74d43db9983ccfab0"
   }
  }
 },
 "nbformat": 4,
 "nbformat_minor": 2
}
